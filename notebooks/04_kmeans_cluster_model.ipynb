{
 "cells": [
  {
   "cell_type": "markdown",
   "metadata": {},
   "source": [
    "####  **Import Required Libraries**"
   ]
  },
  {
   "cell_type": "code",
   "execution_count": 689,
   "metadata": {},
   "outputs": [],
   "source": [
    "import pandas as pd\n",
    "import numpy as np\n",
    "import matplotlib.pyplot as plt\n",
    "import seaborn as sns\n",
    "import plotly.express as px\n",
    "from sklearn.cluster import KMeans\n",
    "from sklearn.metrics import silhouette_score"
   ]
  },
  {
   "cell_type": "markdown",
   "metadata": {},
   "source": [
    "#### **Load Data**"
   ]
  },
  {
   "cell_type": "code",
   "execution_count": 690,
   "metadata": {},
   "outputs": [],
   "source": [
    "file_path = \"../resources/data/output/online_retail_rfm_kmeans.csv\"\n",
    "df = pd.read_csv(file_path)"
   ]
  },
  {
   "cell_type": "code",
   "execution_count": 691,
   "metadata": {},
   "outputs": [
    {
     "data": {
      "text/html": [
       "<div>\n",
       "<style scoped>\n",
       "    .dataframe tbody tr th:only-of-type {\n",
       "        vertical-align: middle;\n",
       "    }\n",
       "\n",
       "    .dataframe tbody tr th {\n",
       "        vertical-align: top;\n",
       "    }\n",
       "\n",
       "    .dataframe thead th {\n",
       "        text-align: right;\n",
       "    }\n",
       "</style>\n",
       "<table border=\"1\" class=\"dataframe\">\n",
       "  <thead>\n",
       "    <tr style=\"text-align: right;\">\n",
       "      <th></th>\n",
       "      <th>CustomerID</th>\n",
       "      <th>Frequency</th>\n",
       "      <th>Monetary</th>\n",
       "      <th>Recency</th>\n",
       "      <th>XformRecency</th>\n",
       "      <th>XformFrequency</th>\n",
       "      <th>XformMonetary</th>\n",
       "      <th>RFM</th>\n",
       "    </tr>\n",
       "  </thead>\n",
       "  <tbody>\n",
       "    <tr>\n",
       "      <th>0</th>\n",
       "      <td>12347.0</td>\n",
       "      <td>182</td>\n",
       "      <td>4310.00</td>\n",
       "      <td>40</td>\n",
       "      <td>-0.150000</td>\n",
       "      <td>1.740741</td>\n",
       "      <td>1.106371</td>\n",
       "      <td>230.368925</td>\n",
       "    </tr>\n",
       "    <tr>\n",
       "      <th>1</th>\n",
       "      <td>12348.0</td>\n",
       "      <td>31</td>\n",
       "      <td>1797.24</td>\n",
       "      <td>76</td>\n",
       "      <td>0.107143</td>\n",
       "      <td>-0.123457</td>\n",
       "      <td>0.586978</td>\n",
       "      <td>114.494564</td>\n",
       "    </tr>\n",
       "    <tr>\n",
       "      <th>2</th>\n",
       "      <td>12349.0</td>\n",
       "      <td>73</td>\n",
       "      <td>1757.55</td>\n",
       "      <td>19</td>\n",
       "      <td>-0.300000</td>\n",
       "      <td>0.395062</td>\n",
       "      <td>0.573720</td>\n",
       "      <td>99.472245</td>\n",
       "    </tr>\n",
       "    <tr>\n",
       "      <th>3</th>\n",
       "      <td>12350.0</td>\n",
       "      <td>17</td>\n",
       "      <td>334.40</td>\n",
       "      <td>311</td>\n",
       "      <td>1.785714</td>\n",
       "      <td>-0.296296</td>\n",
       "      <td>-0.410532</td>\n",
       "      <td>333.815324</td>\n",
       "    </tr>\n",
       "    <tr>\n",
       "      <th>4</th>\n",
       "      <td>12352.0</td>\n",
       "      <td>85</td>\n",
       "      <td>2506.04</td>\n",
       "      <td>73</td>\n",
       "      <td>0.085714</td>\n",
       "      <td>0.543210</td>\n",
       "      <td>0.784369</td>\n",
       "      <td>165.826858</td>\n",
       "    </tr>\n",
       "  </tbody>\n",
       "</table>\n",
       "</div>"
      ],
      "text/plain": [
       "   CustomerID  Frequency  Monetary  Recency  XformRecency  XformFrequency  \\\n",
       "0     12347.0        182   4310.00       40     -0.150000        1.740741   \n",
       "1     12348.0         31   1797.24       76      0.107143       -0.123457   \n",
       "2     12349.0         73   1757.55       19     -0.300000        0.395062   \n",
       "3     12350.0         17    334.40      311      1.785714       -0.296296   \n",
       "4     12352.0         85   2506.04       73      0.085714        0.543210   \n",
       "\n",
       "   XformMonetary         RFM  \n",
       "0       1.106371  230.368925  \n",
       "1       0.586978  114.494564  \n",
       "2       0.573720   99.472245  \n",
       "3      -0.410532  333.815324  \n",
       "4       0.784369  165.826858  "
      ]
     },
     "execution_count": 691,
     "metadata": {},
     "output_type": "execute_result"
    }
   ],
   "source": [
    "df.head()"
   ]
  },
  {
   "cell_type": "code",
   "execution_count": 692,
   "metadata": {},
   "outputs": [
    {
     "data": {
      "text/plain": [
       "(4337, 8)"
      ]
     },
     "execution_count": 692,
     "metadata": {},
     "output_type": "execute_result"
    }
   ],
   "source": [
    "df.shape"
   ]
  },
  {
   "cell_type": "code",
   "execution_count": 693,
   "metadata": {},
   "outputs": [
    {
     "data": {
      "text/html": [
       "<div>\n",
       "<style scoped>\n",
       "    .dataframe tbody tr th:only-of-type {\n",
       "        vertical-align: middle;\n",
       "    }\n",
       "\n",
       "    .dataframe tbody tr th {\n",
       "        vertical-align: top;\n",
       "    }\n",
       "\n",
       "    .dataframe thead th {\n",
       "        text-align: right;\n",
       "    }\n",
       "</style>\n",
       "<table border=\"1\" class=\"dataframe\">\n",
       "  <thead>\n",
       "    <tr style=\"text-align: right;\">\n",
       "      <th></th>\n",
       "      <th>XformRecency</th>\n",
       "      <th>XformFrequency</th>\n",
       "      <th>XformMonetary</th>\n",
       "    </tr>\n",
       "  </thead>\n",
       "  <tbody>\n",
       "    <tr>\n",
       "      <th>0</th>\n",
       "      <td>-0.150000</td>\n",
       "      <td>1.740741</td>\n",
       "      <td>1.106371</td>\n",
       "    </tr>\n",
       "    <tr>\n",
       "      <th>1</th>\n",
       "      <td>0.107143</td>\n",
       "      <td>-0.123457</td>\n",
       "      <td>0.586978</td>\n",
       "    </tr>\n",
       "    <tr>\n",
       "      <th>2</th>\n",
       "      <td>-0.300000</td>\n",
       "      <td>0.395062</td>\n",
       "      <td>0.573720</td>\n",
       "    </tr>\n",
       "    <tr>\n",
       "      <th>3</th>\n",
       "      <td>1.785714</td>\n",
       "      <td>-0.296296</td>\n",
       "      <td>-0.410532</td>\n",
       "    </tr>\n",
       "    <tr>\n",
       "      <th>4</th>\n",
       "      <td>0.085714</td>\n",
       "      <td>0.543210</td>\n",
       "      <td>0.784369</td>\n",
       "    </tr>\n",
       "  </tbody>\n",
       "</table>\n",
       "</div>"
      ],
      "text/plain": [
       "   XformRecency  XformFrequency  XformMonetary\n",
       "0     -0.150000        1.740741       1.106371\n",
       "1      0.107143       -0.123457       0.586978\n",
       "2     -0.300000        0.395062       0.573720\n",
       "3      1.785714       -0.296296      -0.410532\n",
       "4      0.085714        0.543210       0.784369"
      ]
     },
     "execution_count": 693,
     "metadata": {},
     "output_type": "execute_result"
    }
   ],
   "source": [
    "# Select columns including 'CustomerID' from the DataFrame\n",
    "df_with_customer_id = df[['CustomerID', 'XformRecency', 'XformFrequency', 'XformMonetary']]\n",
    "\n",
    "# Select RFM-related columns from the DataFrame without 'CustomerID'\n",
    "rfm_df = df[['XformRecency', 'XformFrequency', 'XformMonetary']]\n",
    "\n",
    "# Display the first few rows of the RFM DataFrame\n",
    "rfm_df.head()\n"
   ]
  },
  {
   "cell_type": "code",
   "execution_count": 694,
   "metadata": {},
   "outputs": [
    {
     "data": {
      "text/plain": [
       "(4337, 3)"
      ]
     },
     "execution_count": 694,
     "metadata": {},
     "output_type": "execute_result"
    }
   ],
   "source": [
    "rfm_df.shape"
   ]
  },
  {
   "cell_type": "markdown",
   "metadata": {},
   "source": [
    "#####  **KMeans Clustering**"
   ]
  },
  {
   "cell_type": "code",
   "execution_count": 695,
   "metadata": {},
   "outputs": [
    {
     "data": {
      "image/png": "[encoded data removed]",
      "text/plain": [
       "<Figure size 800x500 with 1 Axes>"
      ]
     },
     "metadata": {},
     "output_type": "display_data"
    }
   ],
   "source": [
    "# Elbow Method\n",
    "\n",
    "# Initialize an empty list to store inertia values for each k\n",
    "inertia = []\n",
    "\n",
    "# Define the range for the number of clusters to test, from 1 to 10\n",
    "K = range(1, 11)\n",
    "\n",
    "# Iterate over each value of k in the defined range\n",
    "for k in K:\n",
    "    # Initialize the KMeans algorithm with the current number of clusters and a fixed random state\n",
    "    kmeans = KMeans(n_clusters=k, random_state=42)\n",
    "    \n",
    "    # Fit the KMeans model on the RFM DataFrame\n",
    "    kmeans.fit(rfm_df)\n",
    "    \n",
    "    # Append the calculated inertia (sum of squared distances to closest cluster center) to the list\n",
    "    inertia.append(kmeans.inertia_)\n",
    "\n",
    "# Plotting the Elbow Method results using matplotlib\n",
    "plt.figure(figsize=(8, 5))   \n",
    "plt.plot(K, inertia, 'bx-')   \n",
    "plt.xlabel('Number of Clusters (K)')   \n",
    "plt.ylabel('Inertia')   \n",
    "plt.title('Elbow Method for Optimal K')  \n",
    "plt.show()  \n"
   ]
  },
  {
   "cell_type": "markdown",
   "metadata": {},
   "source": [
    "The Elbow Method plot shows the relationship between the number of clusters (K) and inertia (within-cluster sum of squares).\n",
    "\n",
    "- The curve shows a sharp decline from K=1 to K=4, indicating that increasing clusters up to 4 significantly reduces inertia\n",
    "- After K=4, the curve begins to flatten, creating an \"elbow\" shape - this suggests diminishing returns from adding more clusters\n",
    "- The gradual flattening from K=6 to K=10 indicates that additional clusters provide minimal improvement in explaining data variance\n",
    "\n",
    "Based on this visualization, K=4 appears to be an optimal choice for clustering, as it balances computational efficiency with meaningful segmentation."
   ]
  },
  {
   "cell_type": "code",
   "execution_count": 696,
   "metadata": {},
   "outputs": [],
   "source": [
    "def apply_kmeans(rfm_data, max_clusters=10):\n",
    "    \"\"\"\n",
    "    Applies K-Means clustering on RFM scores and uses the elbow method.\n",
    "\n",
    "    Parameters:\n",
    "    rfm_data: DataFrame\n",
    "        The data containing RFM scores with columns 'XformRecency', 'XformFrequency', 'XformMonetary'.\n",
    "    max_clusters: int, default=10\n",
    "        The maximum number of clusters to test.\n",
    "\n",
    "    Returns:\n",
    "    tuple:\n",
    "        A tuple containing two lists: inertia_list and silhouette_list.\n",
    "    \"\"\"\n",
    "    inertia_list = []\n",
    "    silhouette_list = []\n",
    "\n",
    "    for n_clusters in range(2, max_clusters + 1):\n",
    "        print(f\"Cluster size: {n_clusters}\")\n",
    "        kmeans = KMeans(n_clusters=n_clusters, random_state=42)\n",
    "        cluster_labels = kmeans.fit_predict(rfm_data[['XformRecency', 'XformFrequency', 'XformMonetary']])\n",
    "        inertia_list.append(kmeans.inertia_)\n",
    "        silhouette_list.append(\n",
    "            silhouette_score(\n",
    "                rfm_data[['XformRecency', 'XformFrequency', 'XformMonetary']],\n",
    "                cluster_labels\n",
    "            )\n",
    "        )\n",
    "\n",
    "    return inertia_list, silhouette_list\n"
   ]
  },
  {
   "cell_type": "code",
   "execution_count": 697,
   "metadata": {},
   "outputs": [
    {
     "name": "stdout",
     "output_type": "stream",
     "text": [
      "Cluster size: 2\n",
      "Cluster size: 3\n",
      "Cluster size: 4\n",
      "Cluster size: 5\n",
      "Cluster size: 6\n",
      "Cluster size: 7\n",
      "Cluster size: 8\n",
      "Cluster size: 9\n",
      "Cluster size: 10\n"
     ]
    }
   ],
   "source": [
    "# K-Means clustering with the elbow method\n",
    "inertia_list, silhouette_list = apply_kmeans(rfm_df, max_clusters=10)"
   ]
  },
  {
   "cell_type": "code",
   "execution_count": 700,
   "metadata": {},
   "outputs": [
    {
     "data": {
      "image/png": "[encoded data removed]",
      "text/plain": [
       "<Figure size 800x500 with 1 Axes>"
      ]
     },
     "metadata": {},
     "output_type": "display_data"
    },
    {
     "name": "stdout",
     "output_type": "stream",
     "text": [
      "Optimal number of clusters based on silhouette score: 2\n"
     ]
    }
   ],
   "source": [
    "# Plot the Silhouette Scores\n",
    "plt.figure(figsize=(8, 5))\n",
    "plt.plot(range(2, 11), silhouette_list, 'bx-')\n",
    "plt.xlabel('Number of Clusters (K)')\n",
    "plt.ylabel('Silhouette Score')\n",
    "plt.title('Silhouette Score for Optimal K')\n",
    "plt.show()\n",
    "\n",
    "# Display the best number of clusters\n",
    "optimal_k = np.argmax(silhouette_list) + 2  # Add 2 because range starts at 2\n",
    "print(f\"Optimal number of clusters based on silhouette score: {optimal_k}\")\n"
   ]
  },
  {
   "cell_type": "markdown",
   "metadata": {},
   "source": [
    "The Silhouette Score plot shows the optimal number of clusters (K) for customer segmentation. Key observations:\n",
    "\n",
    "- The highest Silhouette Score is at K=2, indicating the strongest cluster separation with two groups\n",
    "- There's a sharp decline in score from K=2 to K=5, suggesting diminishing returns with more clusters\n",
    "- The score stabilizes around K=5-10 with minimal variation, indicating that additional clusters beyond 5 don't significantly improve the segmentation quality\n",
    "\n",
    "Based on this analysis, while K=2 gives the mathematically optimal clustering, using 4 clusters is a reasonable choice as it provides more granular customer segmentation while maintaining meaningful cluster separation."
   ]
  },
  {
   "cell_type": "code",
   "execution_count": 702,
   "metadata": {},
   "outputs": [
    {
     "name": "stdout",
     "output_type": "stream",
     "text": [
      "KMeans Clustering Labels:\n"
     ]
    },
    {
     "data": {
      "text/plain": [
       "KMeans_Cluster\n",
       "0    3710\n",
       "3     599\n",
       "2      24\n",
       "1       4\n",
       "Name: count, dtype: int64"
      ]
     },
     "execution_count": 702,
     "metadata": {},
     "output_type": "execute_result"
    }
   ],
   "source": [
    "kmeans = KMeans(n_clusters=4, random_state=42)\n",
    "kmeans_df = df_with_customer_id.copy()\n",
    "kmeans_df['KMeans_Cluster'] = kmeans.fit_predict(rfm_df)\n",
    "\n",
    "# Add cluster labels\n",
    "print(\"KMeans Clustering Labels:\")\n",
    "kmeans_df['KMeans_Cluster'].value_counts()\n"
   ]
  },
  {
   "cell_type": "markdown",
   "metadata": {},
   "source": [
    "**Identify customer profiles**"
   ]
  },
  {
   "cell_type": "code",
   "execution_count": 703,
   "metadata": {},
   "outputs": [
    {
     "name": "stdout",
     "output_type": "stream",
     "text": [
      "                XformRecency  XformFrequency  XformMonetary\n",
      "KMeans_Cluster                                             \n",
      "0                   0.407876        0.047759      -0.129950\n",
      "1                  -0.407143       70.077160       2.665691\n",
      "2                  -0.292560       15.662037       1.798680\n",
      "3                  -0.213129        3.037326       1.049338\n"
     ]
    }
   ],
   "source": [
    "cluster_profiles = kmeans_df.groupby('KMeans_Cluster')[['XformRecency', 'XformFrequency', 'XformMonetary']].mean()\n",
    "print(cluster_profiles)"
   ]
  },
  {
   "cell_type": "markdown",
   "metadata": {},
   "source": [
    "| **Cluster** | **Label** | **Characteristics** | **Reasoning** |\n",
    "| --- | --- | --- | --- |\n",
    "| 0 | First-Time Customers | High Recency (0.41), Very Low Frequency (0.05), Negative Monetary (-0.13) | Recent first purchase with no prior history, typical of new customer acquisition |\n",
    "| 1 | Premium Customers | High Negative Recency (-0.41), Very High Frequency (70.08), High Monetary (2.67) | Exceptional engagement levels with highest frequency and monetary value, representing top-tier customer base |\n",
    "| 2 | High-Value Regular Customers | Moderate Negative Recency (-0.29), High Frequency (15.66), High Monetary (1.80) | Consistent high-value purchases with good engagement, forming stable revenue base |\n",
    "| 3 | Declining Active Customers | Low Negative Recency (-0.21), Moderate Frequency (3.04), Moderate Monetary (1.05) | Showing signs of reduced engagement while maintaining some activity, potential for reactivation |"
   ]
  },
  {
   "cell_type": "code",
   "execution_count": 704,
   "metadata": {},
   "outputs": [],
   "source": [
    "cluster_mapping = {0:\t\"First-Time Customers\",\n",
    "    1:\t\"Premium Customers\",\n",
    "    2:\t\"High-Value Regular Customers\",\n",
    "    3:\t\"Declining Active Customers\"\n",
    "}"
   ]
  },
  {
   "cell_type": "code",
   "execution_count": 705,
   "metadata": {},
   "outputs": [],
   "source": [
    "# Map the cluster IDs to their descriptions\n",
    "kmeans_df['Cluster_Description'] = kmeans_df['KMeans_Cluster'].replace(cluster_mapping)"
   ]
  },
  {
   "cell_type": "code",
   "execution_count": 706,
   "metadata": {},
   "outputs": [],
   "source": [
    "def visualize_clusters_3d(data):\n",
    "    \"\"\"Visualize the clusters in 3D.\"\"\"\n",
    "    fig = px.scatter_3d(\n",
    "        data, \n",
    "        x='XformRecency', \n",
    "        y='XformFrequency', \n",
    "        z='XformMonetary', \n",
    "        color='Cluster_Description', \n",
    "        title='Customer Clustering using RFM Score',\n",
    "        labels={\n",
    "            'XformRecency': 'Recency',     \n",
    "            'XformFrequency': 'Frequency',   \n",
    "            'XformMonetary': 'Monetary',    \n",
    "            'Cluster_Description': 'Customer Segmentation'\n",
    "        },\n",
    "        hover_name='CustomerID'\n",
    "    )\n",
    "    \n",
    "    fig.show()"
   ]
  },
  {
   "cell_type": "code",
   "execution_count": 707,
   "metadata": {},
   "outputs": [
    {
     "data": {
      "application/vnd.plotly.v1+json": {
       "config": {
        "plotlyServerURL": "https://plot.ly"
       },
       "data": [
        {
         "hovertemplate": "<b>%{hovertext}</b><br><br>Customer Segmentation=Declining Active Customers<br>Recency=%{x}<br>Frequency=%{y}<br>Monetary=%{z}<extra></extra>",
         "hovertext": {
          "bdata": "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",
          "dtype": "f8"
         },
         "legendgroup": "Declining Active Customers",
         "marker": {
          "color": "#636efa",
          "symbol": "circle"
         },
         "mode": "markers",
         "name": "Declining Active Customers",
         "scene": "scene",
         "showlegend": true,
         "type": "scatter3d",
         "x": {
          "bdata": "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",
          "dtype": "f8"
         },
         "y": {
          "bdata": "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",
          "dtype": "f8"
         },
         "z": {
          "bdata": "MgUblrGz8T8Jws9QB1P1P46FIteViPM/UgRnwpCs7z8j0ptSWwPxP8rahxjUouw/ywPb+F3ZCEAaWiDDyB7wP6KFt8gNh/c/R81ltAp99T9yvXCH3Hb8PzqYfNYtBfM/z3BiDJcf8z+HC0F2sybxPwswBOl1vPg/UxGCLeAXAEBxikYvB7b1Pz2uq5j30fA/5Af+jJS99j+VEFaW0g72P2GNXrxLWvw/WpoTVTY57j8zB/v61yf0P2L3/odbK/I/RRPiCjjg8z8J211r4enoPwgWTr1GDOo/n5w+6uYU8j9JDBNQ1eX7P5yRd3zWIvQ/5yPBQkp7/D+ZGVITZjvwP+6+ouGhdfA/EVR/mAAd+T+C8b9VykjxP7STuyBar/Y/Vl0PWoWI8D8z8UlBW5XuPzFM541Hr/w/9x27CN7H9T9bacbx/xDyPyEmjAuk2fQ/5TlXCQKh8D9Chl3/64XwPwApBA6DFv8/Mb/MeZzA/D9rDgx+26b7P1Y24dIaIfg/SnQxZ3eh6z8avySRwN7yP1gridmP//I/57N/zUMh9j/gGiTAYpvqP77VM8S8avk/ln2XMf+K8j8J1zpAUX70PxTnnKF+NOo/jxMqy2+//z8e1pimOXAAQOfGGc7ENPE/R5TJrMZ4AECnU4M4hWH3P7SmIGTeS/Y/HudHAPHf6T950q5S5Sz0PzcUC5T++PA/Y7ChYPle5j9oM38pywPxP9AIptMbGv8/5JiOHl6C/j9Fypx5vmHxP0BQ0FnSo/I/IFtZecMI8T/dsv31usT6P1iPl+eRfvk/RCRYFMtI9D+pizYVK7/yP/VsNul0ju4/5sDlSR+u9j8vosLCaPftP5iXmGNnlfQ/8HBDZ0n38T/hQzFv3ur7Pxx6HJSmmvg/1yHS5tdg9z+7PzA+xdn0P1Ry4Zne4wFAefavL5x+9T8KcNe/I6D7Px6qk6g7ZfA/DvPU7g0A8D/4TvynUzzzP6pTiPhyNfA/bM/DK7nQ6j+d+dSYh2b0PzanQYpZYOE/B1pZ/V7n7j/DkTPPHaz0P62Wh69j5+o/d8rqM64U2j8VCHuJLpfwP3a43BU5KPI/7HZCSCKY7T9GxIO6d77zP23OmtGVlOo/4ewC+a54+j8v9V4v13XvPznbPMAXYPo/3om8tasV7T/uGX7IZGbuP+H0FeE/GPA/LTaLZ81Y8T+IzcbKnDTpPwqrWTwywwFAIgPeXZcL9T8FBUm1lxnwPzcYo7Ed8e4/hBdF65ii7z9g3XgV4NzrPxB0MCqqW/k/mQWRxM1d9D+U3XqbZBHpPz6cBt1Lqvg/P2oVQ3Hi8T9x2O9uGOXoP4K4RI047dE/VVeeIqvo8D/tXJFxxvzmP0CSUc41o/Q/nnewZLMk7z8B7yCJDaTlPwepqfKu5Og/QFamqc1k8z/wJ/ZA60zSP1/YzETEZuA/iqianvLg3z8a1eO8XpHqPyrYcJPzUvU/X7HEVQRN8D+BW+ofaL8FQGvWp2FbCuc/HI1PXxxS9T+Nqe8MG8TrP9e2teGOMO0/BR0Kq17Q5T+9wvUEcHfzPxTj3ci4L98/HG+qpIbd/j8fxwwj5mIBQDjSK0o7FgNAJLS4u7MO8T8nBvtq+tDuPzQOeqR/Cu0/+jW1kbR29T+cIG9motztPzIK0Djq1P4/w6bjt01+6D/M0WUSZ7n4P0EqVqcH7Oo/k6Lkts7B6D/KwjahSGT2Pz7gIq15VvE/wOZXw6nB8D/YiQ3Q5kjyP/huO7EZ8+c/eYLPQOfm/j9uWI/JvsXvP0OzOWPvVZS/EvdBMl0n9D9UqWUit+79P6KTrwXOLPU/ieehPr4Q9T+UhtRdJxXdPyvTbrqhz84/W1+RabXx8T9oPQBjZYsEQDA+wZpyLPE/qGiRXcMq7T9rHm1Ee1T0P997+lsk+es/FLntoXsS6z8gh2JqNanqPzDcaeq/6O8/00VD9JVv8T+lywOYdODtP58LDgf0k+A/CO+AR2af8j80BjQQiG7yP3AbpseDfvI/pDWrAzDn+j/YoDqyTRTvP9eT2h/rnu4/gnnxB9ht8T82VqYEbUHwPyFB+nxBYfI/Jpt5jxC28D9vmz9ZH+nwP9IoJ3LEfew/rWcL09sQ8z/ScKDDWnLpP1l+mu6x7/g/7vxaDyfS7T8RNOcKgmjyP+w6f7icVu8/z8xNIzod8T8CAhEQxezSP2DY3X0wnfQ/cvoaGZw20T/QNCPtYpnxP2Tx22i0EvI/jA7pYxMK5z9RHCuijF/PP/5NwelrYcU/ZfKTztHE5T9/+CLm8aDkP/wSekNCXOM/WWh20IJn5D9Nq1xKb+G8P0h4e7dUg+g/i6jvzmCu7z9Agc7jyp70P/mHSlrHb+Q/Vrh2H/9E4z9DbLjY/n3xPzaw7xmx6LW/Rpuba9Gf6z8tXPQ3eeTxP7aekSpyk+s/dZynjJOb6T+BYLZjt+7wP73+blaoTOc/swvYAjog8z+EkMEE+TzrP+5E+y63CuE/pSVIvBWYzT+jaZzr4VbgP17M2vzm2Nk/PhiZRn9r7D+djs9GkyXcP/KXhhayGuQ/x+h5NrRH6T9sA81tveH4P/mpphIVDdg/9Bmwx3PeAUBc+sXPtkTWP7QDiZ2HJ/Q/pPk7XHDD1j9n1nesUEDpP9cW5z7GDO4/wmncEF6L3j/QLsxYNvbyP7cNyDdxees/lBa6OZk/6j+JiZ9uplvgP0/lswEPrtM/niiGsLnQ4z9juD55qojqP7hl8GFRTPk/hl7JbPTy9D/gDBFx7iHzP9OJDAP2v/E/p7Kj4pOl6j9klVrYo5vlP3beNo0df/c/ETgLqJK5+j8L23K4+CzrPzOv00gldO8/17y+YaW99z9HmTpvrq/0P0FchjVmsvc/6mKxQPRe9j9Z7qTJlv3dPwFMFSlZDeQ/UBC1rYwO2D8Y1ijBJI7jP3nZVC9Q7PU/H/K5XdF76T+d5KKNYZ/xP59PprOiIvc/o/Bnr4hI8z+nQN3jncPlP9M/uToKWdo/MOgWvBbpBED9IcYj5HP5P5wEH6IV8Oo/mDWqJkAN+z//mSYNHLn1P82w40qzpvM/x5iTBvOd8j9Yr/GXZJ7/P7NLuxO6TP4/BcJtRtQc9z8BBwjg13P0P2rU4Ui44PU/0ZWWoNYA6T8GbwuLAIP3Pxn8xDSSLvA/fGYIX5S58j8L+erVHTXzP4HZ/uTfLuQ/t7Nqwo6k6j8m1Og6sPv3PzxL4SykQvA/9gbA7nDG9D8NOijrkPTwP4z6ogzVL9w/nGMW9nnl3D/SaFRrC8nRP025a75J0+0/QMlQ5Slh3D/TozzsfE3bPyRitSSw7u8/9nHlB8ld5D9CYBQyBWz8P7fcSQ0ZD/o/e9eBHiNm/T8h+/WlgAzxPxfPE83NDeQ/QARWbQmF7D9yT1FPuoDoP8Ismu9E5/A/wJ7NtNCM5D+hDsrXwibgP6ldENkcs+8/NaUfxQvx8j9PvirG+lbxP3R5sttoTuk/XF0jYn8w8D9gGhMNjgD2P2I1VqCQEvo/+0ZUl8FG8D/dfMHUna3rP7Ui4hyqPu4/Md9EA7bB+z+t0pCTDfW7P4i+QBp/GO8/qaqE0IJ57D/fCOQ5KJjqP2bWnlXabN8/Ovntig4CyD/MSJ+P9/PtP0jacvIdafM/Jrewoeq/8j98vekjYsXoP6rmOF8c/uk/g0dsHXDmwb8qyaYzwDbuP8J8QsLVDgVAvWAKIjT18j96t+VGPFjJP7TEn4iAePE/tjivDY//8z/kogf1OiDwP0c4vbVM1+Y/NwwnnXqdAkACT+EEcED+P0ld/3VD0dw/jOCZNk1t7T8qd3nd1IfwPyMkZeCyHcU/IDMv5r8f1z8ZfGiI8O7xP1/AwDSJIe8/2j/RnlIT6z+JLkNFJA7rPzVjjqMVBe0/n+WWzfnhtb9cthEWQqjhP9JxmzTSoe4/rMaUV3gVA0CrgvQxQPefPz0T6uxd0N0/qdSQbYZ48D+9JRR5I8gGQCoJrucfCdI/vRLfGA9+3T+eB0p6FTTrPy/3WxhpLM0/RyhkFFre2T88Uo/VxkjhPxoo8zaeqcI/1hrNAxZK/T+yPdLTBYHwPyjyBrmjE/Q/efdTvkXw+T/PTzRJVgLxP+1a2jyAMPY/ySgvVCRlAEBJbFMnb7rpPzP5ZUFf4O8/zUcsj7Tx6T/wvfSRPO3zPz1zW/qeOeA/L74unFrG8z+LSuHA5cPsP056ZEhKjvA/bVBk+LZ/3D82PQ4qMi3vP+ruWdonUdk/m1koiK7G7D8J6zwBlj3eP7eFyVEwOfE/U4RxnnGO5T/gSHCi/gflP2tCmtmPwgJA6/fxGUl54z/aWluKKBnwP63gpR6RWu8/NKyvMtk42T9xiNCwreziP13V/FpyIfk/n1sSrqU2/D9oiLjyOlHSP3K3LXYMduc/LcG8rado7j+WAQsEJvn3P0BF991JQvE/j5zqqzKa7j/54sHo5QH0P55ysccy7fE/q1zVAl3D6z/cXGSmoXrwP+n1YVM9ZsQ/zPGmf8A38T9rv9UZ4DPtPx0iYPo53QVAhQr4qDdD7D9in2WG5UHzPxIED5Jj1/M/HynnmuPr/D/hL2stIc/oP22UYGF2BfA/xigiw0Qw9j/vsbVWxZzwP7VePI3ZfuI/mWH9V0+W8j+LHCUPq/DaP3dlQ34bFtE/WdtpLc+V9j/cnhsO9LzmP94oh1krBtk/WI4SonqN9j84H79Mrt31P4DWY+hXJes/7qAiVvwl9D9hdm9DUf3mP96eBVamoeE/2NtwD6hD+j8NNU5k+DPnP0FRU6SByuE/5bBUvRQc1j+JNaYaPC/hP2M/u1nPe/U/8fEAbOac7j9wYP2IWpLtP1FM76tug/4/O/lqwZDi+T/3uh43EHr2P+jw/PXhet4/E6j2IXjjrz+9MZHE4SHwP/AK7cNNwew/kJNMsIjs3j8TwmtzE77pP82S0aFdZ/Y/STc4RpBO6z/L9KgELpnqP209pifu1Ow/RaQm47Tj4z/xejnYpcfxP1He6vimBvI/meCZ68T38D8dNgc2NTfjP6jH53PLXvg/E30crB4E2D+x7uosakj0PxH8dNPKqO0/QBKJXloF7T/58gBBqDjyP8Cxjf6fTt0/b83KnYMf4D9y/dj7DZPwP31/LcstDMs/0Q+IV+Bt+j/Lvp/rFMnNP3+CZcWXTPo/Ij8vFZ2L7z+MFR27E6/lP4EV8NRqxe8/vNXnaoKc5z+0DpNNXxTrPwX3ddIyWuQ/f+tzSLWr7T8h75+kg+bjP+d9N6TcSu0/AQJ//ABN8D+vs3OSQTP4PzkBG1thIeE/3nKJVeZH9T91UTni/CLHPymDMOklouQ/6bEt48SY9T80KlzFXrX7P7sv13I39+k/ozXbLkbS1D/Pe38WYAjyP7MNZi4IqfI/MldWBR1V2j8CAVuVVCHxP4O/VPRyNQBAG1dT8DlaAkC661lWu7jlPwnhZ6YEXQJA83+lVSYq9j/vYjbtJITxP2C3ZPH+LvM/AI89Dq3i/j/5MX53DDPpPzAxcZpg8wpApJxTccKY4z8B41yrJPr0P98rsXcDEfA/H86rDiUE6D+zjeBxyb/xP5HpcIdPxNw/F3OhZufL7z+PjXtpqaD6P5YwwkW5fNM/6WLAfLBP6D/W11+iAuHdPwWnJP5ez/A/Ox6GVLNA6z+FxWXURDfzPw8ED9hXHdM/IiFxT1zm8D+x3sMOmTTyP/FXaKHJAeU/kOLQtZXy5z9gIrXOedjrPy5eR+9w3PA/PCzS7bXb8j/pTng51oPsP5D34KjZg+A/uETpzlo7AECJlJwrp17+Py7fjXZ3bPQ/NMKjQT+U8j/8Ep6F8ir6P1OgX+PTSPQ/p/uUy17W8z+XZHj1MR3vP+MRv8dit+s/OHI+Pvyp8z85rfvUBEb8P+ahA5LN1+E/F6Sjs8At9D/jDkDaUPHuP4i+fvAX5PA/anmWlfpDk7/jRKAo03jkP1S46EPRw+w/KdVFcnm04T8Sccd/hLHkP1vHmApXut8/6I26GzHU8z/OREjhbGDzP3dZNxTTuOU/Ujd1x3qB7T9jzf9//y/6PyUulT7XfuM/FZ0Ipo6Q0z+h1rFGukXxP7rz088Eluc/J+7WsTUo2T+ghxXgFMvpPzkjPk6RE/I/TabaRkR05D8zKPHznzjxP5HqqrUV+/U/1mel0tjm5D/RmoCFV6/pP50IEbzOKcI/LHncrY9TDEAxol2M05X3P+nBKCkuKdw/DRgyBjO94j9+TtGzEv/TPz70PJAbFvg/DXSAvN2e6z9Y1awAPwv3PzyfOHWk4/M/DPmz5BuU5D+EYDcdZZX1P1Bh9j78BvQ/4kbQrG6J8z/H+ATT2q32PxqkaGCTjuk/+FriZX4C7T98sF1r6T3lPw==",
          "dtype": "f8"
         }
        },
        {
         "hovertemplate": "<b>%{hovertext}</b><br><br>Customer Segmentation=First-Time Customers<br>Recency=%{x}<br>Frequency=%{y}<br>Monetary=%{z}<extra></extra>",
         "hovertext": {
          "bdata": "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",
          "dtype": "f8"
         },
         "legendgroup": "First-Time Customers",
         "marker": {
          "color": "#EF553B",
          "symbol": "circle"
         },
         "mode": "markers",
         "name": "First-Time Customers",
         "scene": "scene",
         "showlegend": true,
         "type": "scatter3d",
         "x": {
          "bdata": "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",
          "dtype": "f8"
         },
         "y": {
          "bdata": "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",
          "dtype": "f8"
         },
         "z": {
          "bdata": "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",
          "dtype": "f8"
         }
        },
        {
         "hovertemplate": "<b>%{hovertext}</b><br><br>Customer Segmentation=Premium Customers<br>Recency=%{x}<br>Frequency=%{y}<br>Monetary=%{z}<extra></extra>",
         "hovertext": {
          "bdata": "AAAAAADmyEAAAAAAAIjLQAAAAACAH81AAAAAAEBs0UA=",
          "dtype": "f8"
         },
         "legendgroup": "Premium Customers",
         "marker": {
          "color": "#00cc96",
          "symbol": "circle"
         },
         "mode": "markers",
         "name": "Premium Customers",
         "scene": "scene",
         "showlegend": true,
         "type": "scatter3d",
         "x": {
          "bdata": "6aAO6qAO2r9mZmZmZmbWvyy+4iu+4tu/LL7iK77i278=",
          "dtype": "f8"
         },
         "y": {
          "bdata": "tJfQXkL7SkC+hPYS2ktPQKQMPN2aX1FACO0ltJeQV0A=",
          "dtype": "f8"
         },
         "z": {
          "bdata": "6qaDnvWHAkCXVXfpvsEFQHG1GwLmgwlAP4e4B7x/A0A=",
          "dtype": "f8"
         }
        },
        {
         "hovertemplate": "<b>%{hovertext}</b><br><br>Customer Segmentation=High-Value Regular Customers<br>Recency=%{x}<br>Frequency=%{y}<br>Monetary=%{z}<extra></extra>",
         "hovertext": {
          "bdata": "AAAAAICMyUAAAAAAgJDJQAAAAACA58lAAAAAAAB0y0AAAAAAAKbLQAAAAACAp8tAAAAAAADty0AAAAAAADzMQAAAAACAX8xAAAAAAACHzEAAAAAAAJvMQAAAAACA2MxAAAAAAADmzEAAAAAAgE7NQAAAAACAX81AAAAAAIDnzUAAAAAAgGHOQAAAAACAs85AAAAAAIBQz0AAAAAAQCnQQAAAAADAiNBAAAAAAMAZ0UAAAAAAwGTRQAAAAACAsdFA",
          "dtype": "f8"
         },
         "legendgroup": "High-Value Regular Customers",
         "marker": {
          "color": "#ab63fa",
          "symbol": "circle"
         },
         "mode": "markers",
         "name": "High-Value Regular Customers",
         "scene": "scene",
         "showlegend": true,
         "type": "scatter3d",
         "x": {
          "bdata": "ZmZmZmZm1r9IkiRJkiTZv5qZmZmZmdm/JEmSJEmS1L8svuIrvuLbv+IrvuIrvtK/F9RBHdRBrb/xFV/xFV/Rv9q2bdu2bdu/mpmZmZmZ2b+Kr/iKr/jav9NBHdRBHcQ/8RVf8RVf0b8kSZIkSZLUvwZ1UAd1UNe/LL7iK77i278svuIrvuLbv83MzMzMzOQ/mpmZmZmZ2b+2bdu2bdvWv+IrvuIrvtK/SJIkSZIk2b/atm3btm3bv7Zt27Zt29a/",
          "dtype": "f8"
         },
         "y": {
          "bdata": "A0+35odFKEA5juM4juM1QC+hvYT2EjRAob2E9hLaKUAgFikDT7cwQAAAAAAAACxAQnsJ7SW0M0DsJbSX0F4mQGcvob2E9iZAA0+35odFQECkDDzdmh85QLFIGXi6NSlArvlhkTLwKkAbx3Ecx3EqQP2wSBl4ujFAQnsJ7SW0PEA5juM4juMkQEbKwNOt+SVAwyJl4OnWKkDnh0XKwNMlQH5YpAw83SRAlYGnW/PDJkA+LFIGnm4jQBl4ujU/LC5A",
          "dtype": "f8"
         },
         "z": {
          "bdata": "laD1PrHMAUBRq6aA7UMFQHKFNJzG4vY/mweEIVXC9z/ZY/RG64sIQHS7e7YYYvI/1am1sBekBEBVdPoFp6DsPy5ONCbcKfg/yNrKxyp++z8x5xehN7AMQHiR7T2YFvo/RI9imt2M9z9MwLm7Xk31P4UpdtCEFgBAXhAAYg1qBUB3IUcgBrfyP9kOe2iFK/M/6o8+mVd2+D8xF8KBQBPxP5iGx5wdOvI/f4JpWtVYB0BaN8ypzEr3P3wqjR1/O/Q/",
          "dtype": "f8"
         }
        }
       ],
       "layout": {
        "legend": {
         "title": {
          "text": "Customer Segmentation"
         },
         "tracegroupgap": 0
        },
        "scene": {
         "domain": {
          "x": [
           0,
           1
          ],
          "y": [
           0,
           1
          ]
         },
         "xaxis": {
          "title": {
           "text": "Recency"
          }
         },
         "yaxis": {
          "title": {
           "text": "Frequency"
          }
         },
         "zaxis": {
          "title": {
           "text": "Monetary"
          }
         }
        },
        "template": {
         "data": {
          "bar": [
           {
            "error_x": {
             "color": "#2a3f5f"
            },
            "error_y": {
             "color": "#2a3f5f"
            },
            "marker": {
             "line": {
              "color": "#E5ECF6",
              "width": 0.5
             },
             "pattern": {
              "fillmode": "overlay",
              "size": 10,
              "solidity": 0.2
             }
            },
            "type": "bar"
           }
          ],
          "barpolar": [
           {
            "marker": {
             "line": {
              "color": "#E5ECF6",
              "width": 0.5
             },
             "pattern": {
              "fillmode": "overlay",
              "size": 10,
              "solidity": 0.2
             }
            },
            "type": "barpolar"
           }
          ],
          "carpet": [
           {
            "aaxis": {
             "endlinecolor": "#2a3f5f",
             "gridcolor": "white",
             "linecolor": "white",
             "minorgridcolor": "white",
             "startlinecolor": "#2a3f5f"
            },
            "baxis": {
             "endlinecolor": "#2a3f5f",
             "gridcolor": "white",
             "linecolor": "white",
             "minorgridcolor": "white",
             "startlinecolor": "#2a3f5f"
            },
            "type": "carpet"
           }
          ],
          "choropleth": [
           {
            "colorbar": {
             "outlinewidth": 0,
             "ticks": ""
            },
            "type": "choropleth"
           }
          ],
          "contour": [
           {
            "colorbar": {
             "outlinewidth": 0,
             "ticks": ""
            },
            "colorscale": [
             [
              0,
              "#0d0887"
             ],
             [
              0.1111111111111111,
              "#46039f"
             ],
             [
              0.2222222222222222,
              "#7201a8"
             ],
             [
              0.3333333333333333,
              "#9c179e"
             ],
             [
              0.4444444444444444,
              "#bd3786"
             ],
             [
              0.5555555555555556,
              "#d8576b"
             ],
             [
              0.6666666666666666,
              "#ed7953"
             ],
             [
              0.7777777777777778,
              "#fb9f3a"
             ],
             [
              0.8888888888888888,
              "#fdca26"
             ],
             [
              1,
              "#f0f921"
             ]
            ],
            "type": "contour"
           }
          ],
          "contourcarpet": [
           {
            "colorbar": {
             "outlinewidth": 0,
             "ticks": ""
            },
            "type": "contourcarpet"
           }
          ],
          "heatmap": [
           {
            "colorbar": {
             "outlinewidth": 0,
             "ticks": ""
            },
            "colorscale": [
             [
              0,
              "#0d0887"
             ],
             [
              0.1111111111111111,
              "#46039f"
             ],
             [
              0.2222222222222222,
              "#7201a8"
             ],
             [
              0.3333333333333333,
              "#9c179e"
             ],
             [
              0.4444444444444444,
              "#bd3786"
             ],
             [
              0.5555555555555556,
              "#d8576b"
             ],
             [
              0.6666666666666666,
              "#ed7953"
             ],
             [
              0.7777777777777778,
              "#fb9f3a"
             ],
             [
              0.8888888888888888,
              "#fdca26"
             ],
             [
              1,
              "#f0f921"
             ]
            ],
            "type": "heatmap"
           }
          ],
          "histogram": [
           {
            "marker": {
             "pattern": {
              "fillmode": "overlay",
              "size": 10,
              "solidity": 0.2
             }
            },
            "type": "histogram"
           }
          ],
          "histogram2d": [
           {
            "colorbar": {
             "outlinewidth": 0,
             "ticks": ""
            },
            "colorscale": [
             [
              0,
              "#0d0887"
             ],
             [
              0.1111111111111111,
              "#46039f"
             ],
             [
              0.2222222222222222,
              "#7201a8"
             ],
             [
              0.3333333333333333,
              "#9c179e"
             ],
             [
              0.4444444444444444,
              "#bd3786"
             ],
             [
              0.5555555555555556,
              "#d8576b"
             ],
             [
              0.6666666666666666,
              "#ed7953"
             ],
             [
              0.7777777777777778,
              "#fb9f3a"
             ],
             [
              0.8888888888888888,
              "#fdca26"
             ],
             [
              1,
              "#f0f921"
             ]
            ],
            "type": "histogram2d"
           }
          ],
          "histogram2dcontour": [
           {
            "colorbar": {
             "outlinewidth": 0,
             "ticks": ""
            },
            "colorscale": [
             [
              0,
              "#0d0887"
             ],
             [
              0.1111111111111111,
              "#46039f"
             ],
             [
              0.2222222222222222,
              "#7201a8"
             ],
             [
              0.3333333333333333,
              "#9c179e"
             ],
             [
              0.4444444444444444,
              "#bd3786"
             ],
             [
              0.5555555555555556,
              "#d8576b"
             ],
             [
              0.6666666666666666,
              "#ed7953"
             ],
             [
              0.7777777777777778,
              "#fb9f3a"
             ],
             [
              0.8888888888888888,
              "#fdca26"
             ],
             [
              1,
              "#f0f921"
             ]
            ],
            "type": "histogram2dcontour"
           }
          ],
          "mesh3d": [
           {
            "colorbar": {
             "outlinewidth": 0,
             "ticks": ""
            },
            "type": "mesh3d"
           }
          ],
          "parcoords": [
           {
            "line": {
             "colorbar": {
              "outlinewidth": 0,
              "ticks": ""
             }
            },
            "type": "parcoords"
           }
          ],
          "pie": [
           {
            "automargin": true,
            "type": "pie"
           }
          ],
          "scatter": [
           {
            "fillpattern": {
             "fillmode": "overlay",
             "size": 10,
             "solidity": 0.2
            },
            "type": "scatter"
           }
          ],
          "scatter3d": [
           {
            "line": {
             "colorbar": {
              "outlinewidth": 0,
              "ticks": ""
             }
            },
            "marker": {
             "colorbar": {
              "outlinewidth": 0,
              "ticks": ""
             }
            },
            "type": "scatter3d"
           }
          ],
          "scattercarpet": [
           {
            "marker": {
             "colorbar": {
              "outlinewidth": 0,
              "ticks": ""
             }
            },
            "type": "scattercarpet"
           }
          ],
          "scattergeo": [
           {
            "marker": {
             "colorbar": {
              "outlinewidth": 0,
              "ticks": ""
             }
            },
            "type": "scattergeo"
           }
          ],
          "scattergl": [
           {
            "marker": {
             "colorbar": {
              "outlinewidth": 0,
              "ticks": ""
             }
            },
            "type": "scattergl"
           }
          ],
          "scattermap": [
           {
            "marker": {
             "colorbar": {
              "outlinewidth": 0,
              "ticks": ""
             }
            },
            "type": "scattermap"
           }
          ],
          "scattermapbox": [
           {
            "marker": {
             "colorbar": {
              "outlinewidth": 0,
              "ticks": ""
             }
            },
            "type": "scattermapbox"
           }
          ],
          "scatterpolar": [
           {
            "marker": {
             "colorbar": {
              "outlinewidth": 0,
              "ticks": ""
             }
            },
            "type": "scatterpolar"
           }
          ],
          "scatterpolargl": [
           {
            "marker": {
             "colorbar": {
              "outlinewidth": 0,
              "ticks": ""
             }
            },
            "type": "scatterpolargl"
           }
          ],
          "scatterternary": [
           {
            "marker": {
             "colorbar": {
              "outlinewidth": 0,
              "ticks": ""
             }
            },
            "type": "scatterternary"
           }
          ],
          "surface": [
           {
            "colorbar": {
             "outlinewidth": 0,
             "ticks": ""
            },
            "colorscale": [
             [
              0,
              "#0d0887"
             ],
             [
              0.1111111111111111,
              "#46039f"
             ],
             [
              0.2222222222222222,
              "#7201a8"
             ],
             [
              0.3333333333333333,
              "#9c179e"
             ],
             [
              0.4444444444444444,
              "#bd3786"
             ],
             [
              0.5555555555555556,
              "#d8576b"
             ],
             [
              0.6666666666666666,
              "#ed7953"
             ],
             [
              0.7777777777777778,
              "#fb9f3a"
             ],
             [
              0.8888888888888888,
              "#fdca26"
             ],
             [
              1,
              "#f0f921"
             ]
            ],
            "type": "surface"
           }
          ],
          "table": [
           {
            "cells": {
             "fill": {
              "color": "#EBF0F8"
             },
             "line": {
              "color": "white"
             }
            },
            "header": {
             "fill": {
              "color": "#C8D4E3"
             },
             "line": {
              "color": "white"
             }
            },
            "type": "table"
           }
          ]
         },
         "layout": {
          "annotationdefaults": {
           "arrowcolor": "#2a3f5f",
           "arrowhead": 0,
           "arrowwidth": 1
          },
          "autotypenumbers": "strict",
          "coloraxis": {
           "colorbar": {
            "outlinewidth": 0,
            "ticks": ""
           }
          },
          "colorscale": {
           "diverging": [
            [
             0,
             "#8e0152"
            ],
            [
             0.1,
             "#c51b7d"
            ],
            [
             0.2,
             "#de77ae"
            ],
            [
             0.3,
             "#f1b6da"
            ],
            [
             0.4,
             "#fde0ef"
            ],
            [
             0.5,
             "#f7f7f7"
            ],
            [
             0.6,
             "#e6f5d0"
            ],
            [
             0.7,
             "#b8e186"
            ],
            [
             0.8,
             "#7fbc41"
            ],
            [
             0.9,
             "#4d9221"
            ],
            [
             1,
             "#276419"
            ]
           ],
           "sequential": [
            [
             0,
             "#0d0887"
            ],
            [
             0.1111111111111111,
             "#46039f"
            ],
            [
             0.2222222222222222,
             "#7201a8"
            ],
            [
             0.3333333333333333,
             "#9c179e"
            ],
            [
             0.4444444444444444,
             "#bd3786"
            ],
            [
             0.5555555555555556,
             "#d8576b"
            ],
            [
             0.6666666666666666,
             "#ed7953"
            ],
            [
             0.7777777777777778,
             "#fb9f3a"
            ],
            [
             0.8888888888888888,
             "#fdca26"
            ],
            [
             1,
             "#f0f921"
            ]
           ],
           "sequentialminus": [
            [
             0,
             "#0d0887"
            ],
            [
             0.1111111111111111,
             "#46039f"
            ],
            [
             0.2222222222222222,
             "#7201a8"
            ],
            [
             0.3333333333333333,
             "#9c179e"
            ],
            [
             0.4444444444444444,
             "#bd3786"
            ],
            [
             0.5555555555555556,
             "#d8576b"
            ],
            [
             0.6666666666666666,
             "#ed7953"
            ],
            [
             0.7777777777777778,
             "#fb9f3a"
            ],
            [
             0.8888888888888888,
             "#fdca26"
            ],
            [
             1,
             "#f0f921"
            ]
           ]
          },
          "colorway": [
           "#636efa",
           "#EF553B",
           "#00cc96",
           "#ab63fa",
           "#FFA15A",
           "#19d3f3",
           "#FF6692",
           "#B6E880",
           "#FF97FF",
           "#FECB52"
          ],
          "font": {
           "color": "#2a3f5f"
          },
          "geo": {
           "bgcolor": "white",
           "lakecolor": "white",
           "landcolor": "#E5ECF6",
           "showlakes": true,
           "showland": true,
           "subunitcolor": "white"
          },
          "hoverlabel": {
           "align": "left"
          },
          "hovermode": "closest",
          "mapbox": {
           "style": "light"
          },
          "paper_bgcolor": "white",
          "plot_bgcolor": "#E5ECF6",
          "polar": {
           "angularaxis": {
            "gridcolor": "white",
            "linecolor": "white",
            "ticks": ""
           },
           "bgcolor": "#E5ECF6",
           "radialaxis": {
            "gridcolor": "white",
            "linecolor": "white",
            "ticks": ""
           }
          },
          "scene": {
           "xaxis": {
            "backgroundcolor": "#E5ECF6",
            "gridcolor": "white",
            "gridwidth": 2,
            "linecolor": "white",
            "showbackground": true,
            "ticks": "",
            "zerolinecolor": "white"
           },
           "yaxis": {
            "backgroundcolor": "#E5ECF6",
            "gridcolor": "white",
            "gridwidth": 2,
            "linecolor": "white",
            "showbackground": true,
            "ticks": "",
            "zerolinecolor": "white"
           },
           "zaxis": {
            "backgroundcolor": "#E5ECF6",
            "gridcolor": "white",
            "gridwidth": 2,
            "linecolor": "white",
            "showbackground": true,
            "ticks": "",
            "zerolinecolor": "white"
           }
          },
          "shapedefaults": {
           "line": {
            "color": "#2a3f5f"
           }
          },
          "ternary": {
           "aaxis": {
            "gridcolor": "white",
            "linecolor": "white",
            "ticks": ""
           },
           "baxis": {
            "gridcolor": "white",
            "linecolor": "white",
            "ticks": ""
           },
           "bgcolor": "#E5ECF6",
           "caxis": {
            "gridcolor": "white",
            "linecolor": "white",
            "ticks": ""
           }
          },
          "title": {
           "x": 0.05
          },
          "xaxis": {
           "automargin": true,
           "gridcolor": "white",
           "linecolor": "white",
           "ticks": "",
           "title": {
            "standoff": 15
           },
           "zerolinecolor": "white",
           "zerolinewidth": 2
          },
          "yaxis": {
           "automargin": true,
           "gridcolor": "white",
           "linecolor": "white",
           "ticks": "",
           "title": {
            "standoff": 15
           },
           "zerolinecolor": "white",
           "zerolinewidth": 2
          }
         }
        },
        "title": {
         "text": "Customer Clustering using RFM Score"
        }
       }
      }
     },
     "metadata": {},
     "output_type": "display_data"
    }
   ],
   "source": [
    "visualize_clusters_3d(kmeans_df)"
   ]
  },
  {
   "cell_type": "code",
   "execution_count": 709,
   "metadata": {},
   "outputs": [
    {
     "data": {
      "text/markdown": [
       "![Alt Text](../resources/customer_segmentation_kmeans.png)"
      ],
      "text/plain": [
       "<IPython.core.display.Markdown object>"
      ]
     },
     "execution_count": 709,
     "metadata": {},
     "output_type": "execute_result"
    }
   ],
   "source": [
    "from IPython.display import Markdown\n",
    "\n",
    "Markdown(\"![Alt Text](../resources/customer_segmentation_kmeans.png)\")"
   ]
  }
 ],
 "metadata": {
  "kernelspec": {
   "display_name": "Python 3",
   "language": "python",
   "name": "python3"
  },
  "language_info": {
   "codemirror_mode": {
    "name": "ipython",
    "version": 3
   },
   "file_extension": ".py",
   "mimetype": "text/x-python",
   "name": "python",
   "nbconvert_exporter": "python",
   "pygments_lexer": "ipython3",
   "version": "3.12.2"
  }
 },
 "nbformat": 4,
 "nbformat_minor": 2
}
