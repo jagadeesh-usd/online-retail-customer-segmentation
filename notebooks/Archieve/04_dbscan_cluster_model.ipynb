{
 "cells": [
  {
   "cell_type": "code",
   "execution_count": 23,
   "metadata": {},
   "outputs": [],
   "source": [
    "import pandas as pd\n",
    "import numpy as np\n",
    "import matplotlib.pyplot as plt\n",
    "import seaborn as sns\n",
    "from sklearn.cluster import DBSCAN\n",
    "from sklearn.metrics import silhouette_score\n"
   ]
  },
  {
   "cell_type": "code",
   "execution_count": 24,
   "metadata": {},
   "outputs": [],
   "source": [
    "file_path = \"../resources/data/output/online_retail_rfm_dbscan.csv\"   \n",
    "df = pd.read_csv(file_path)"
   ]
  },
  {
   "cell_type": "code",
   "execution_count": 25,
   "metadata": {},
   "outputs": [
    {
     "data": {
      "text/html": [
       "<div>\n",
       "<style scoped>\n",
       "    .dataframe tbody tr th:only-of-type {\n",
       "        vertical-align: middle;\n",
       "    }\n",
       "\n",
       "    .dataframe tbody tr th {\n",
       "        vertical-align: top;\n",
       "    }\n",
       "\n",
       "    .dataframe thead th {\n",
       "        text-align: right;\n",
       "    }\n",
       "</style>\n",
       "<table border=\"1\" class=\"dataframe\">\n",
       "  <thead>\n",
       "    <tr style=\"text-align: right;\">\n",
       "      <th></th>\n",
       "      <th>CustomerID</th>\n",
       "      <th>Frequency</th>\n",
       "      <th>Monetary</th>\n",
       "      <th>Recency</th>\n",
       "      <th>LogRecency</th>\n",
       "      <th>LogFrequency</th>\n",
       "      <th>LogMonetary</th>\n",
       "    </tr>\n",
       "  </thead>\n",
       "  <tbody>\n",
       "    <tr>\n",
       "      <th>0</th>\n",
       "      <td>12346.0</td>\n",
       "      <td>1</td>\n",
       "      <td>77183.60</td>\n",
       "      <td>326</td>\n",
       "      <td>1.916496</td>\n",
       "      <td>-0.397035</td>\n",
       "      <td>8.363010</td>\n",
       "    </tr>\n",
       "    <tr>\n",
       "      <th>1</th>\n",
       "      <td>12347.0</td>\n",
       "      <td>182</td>\n",
       "      <td>4310.00</td>\n",
       "      <td>40</td>\n",
       "      <td>-0.568972</td>\n",
       "      <td>0.405694</td>\n",
       "      <td>0.251699</td>\n",
       "    </tr>\n",
       "    <tr>\n",
       "      <th>2</th>\n",
       "      <td>12348.0</td>\n",
       "      <td>31</td>\n",
       "      <td>1797.24</td>\n",
       "      <td>76</td>\n",
       "      <td>-0.256116</td>\n",
       "      <td>-0.263986</td>\n",
       "      <td>-0.027988</td>\n",
       "    </tr>\n",
       "    <tr>\n",
       "      <th>3</th>\n",
       "      <td>12349.0</td>\n",
       "      <td>73</td>\n",
       "      <td>1757.55</td>\n",
       "      <td>19</td>\n",
       "      <td>-0.751471</td>\n",
       "      <td>-0.077717</td>\n",
       "      <td>-0.032406</td>\n",
       "    </tr>\n",
       "    <tr>\n",
       "      <th>4</th>\n",
       "      <td>12350.0</td>\n",
       "      <td>17</td>\n",
       "      <td>334.40</td>\n",
       "      <td>311</td>\n",
       "      <td>1.786139</td>\n",
       "      <td>-0.326075</td>\n",
       "      <td>-0.190812</td>\n",
       "    </tr>\n",
       "  </tbody>\n",
       "</table>\n",
       "</div>"
      ],
      "text/plain": [
       "   CustomerID  Frequency  Monetary  Recency  LogRecency  LogFrequency  \\\n",
       "0     12346.0          1  77183.60      326    1.916496     -0.397035   \n",
       "1     12347.0        182   4310.00       40   -0.568972      0.405694   \n",
       "2     12348.0         31   1797.24       76   -0.256116     -0.263986   \n",
       "3     12349.0         73   1757.55       19   -0.751471     -0.077717   \n",
       "4     12350.0         17    334.40      311    1.786139     -0.326075   \n",
       "\n",
       "   LogMonetary  \n",
       "0     8.363010  \n",
       "1     0.251699  \n",
       "2    -0.027988  \n",
       "3    -0.032406  \n",
       "4    -0.190812  "
      ]
     },
     "execution_count": 25,
     "metadata": {},
     "output_type": "execute_result"
    }
   ],
   "source": [
    "df.head()"
   ]
  },
  {
   "cell_type": "code",
   "execution_count": 26,
   "metadata": {},
   "outputs": [
    {
     "data": {
      "text/plain": [
       "(4338, 7)"
      ]
     },
     "execution_count": 26,
     "metadata": {},
     "output_type": "execute_result"
    }
   ],
   "source": [
    "df.shape"
   ]
  },
  {
   "cell_type": "code",
   "execution_count": 27,
   "metadata": {},
   "outputs": [
    {
     "data": {
      "text/html": [
       "<div>\n",
       "<style scoped>\n",
       "    .dataframe tbody tr th:only-of-type {\n",
       "        vertical-align: middle;\n",
       "    }\n",
       "\n",
       "    .dataframe tbody tr th {\n",
       "        vertical-align: top;\n",
       "    }\n",
       "\n",
       "    .dataframe thead th {\n",
       "        text-align: right;\n",
       "    }\n",
       "</style>\n",
       "<table border=\"1\" class=\"dataframe\">\n",
       "  <thead>\n",
       "    <tr style=\"text-align: right;\">\n",
       "      <th></th>\n",
       "      <th>LogRecency</th>\n",
       "      <th>LogFrequency</th>\n",
       "      <th>LogMonetary</th>\n",
       "    </tr>\n",
       "  </thead>\n",
       "  <tbody>\n",
       "    <tr>\n",
       "      <th>0</th>\n",
       "      <td>1.916496</td>\n",
       "      <td>-0.397035</td>\n",
       "      <td>8.363010</td>\n",
       "    </tr>\n",
       "    <tr>\n",
       "      <th>1</th>\n",
       "      <td>-0.568972</td>\n",
       "      <td>0.405694</td>\n",
       "      <td>0.251699</td>\n",
       "    </tr>\n",
       "    <tr>\n",
       "      <th>2</th>\n",
       "      <td>-0.256116</td>\n",
       "      <td>-0.263986</td>\n",
       "      <td>-0.027988</td>\n",
       "    </tr>\n",
       "    <tr>\n",
       "      <th>3</th>\n",
       "      <td>-0.751471</td>\n",
       "      <td>-0.077717</td>\n",
       "      <td>-0.032406</td>\n",
       "    </tr>\n",
       "    <tr>\n",
       "      <th>4</th>\n",
       "      <td>1.786139</td>\n",
       "      <td>-0.326075</td>\n",
       "      <td>-0.190812</td>\n",
       "    </tr>\n",
       "  </tbody>\n",
       "</table>\n",
       "</div>"
      ],
      "text/plain": [
       "   LogRecency  LogFrequency  LogMonetary\n",
       "0    1.916496     -0.397035     8.363010\n",
       "1   -0.568972      0.405694     0.251699\n",
       "2   -0.256116     -0.263986    -0.027988\n",
       "3   -0.751471     -0.077717    -0.032406\n",
       "4    1.786139     -0.326075    -0.190812"
      ]
     },
     "execution_count": 27,
     "metadata": {},
     "output_type": "execute_result"
    }
   ],
   "source": [
    "df = df[['LogRecency', 'LogFrequency', 'LogMonetary']]\n",
    "\n",
    "df.head()"
   ]
  },
  {
   "cell_type": "code",
   "execution_count": 28,
   "metadata": {},
   "outputs": [
    {
     "data": {
      "text/plain": [
       "(4338, 3)"
      ]
     },
     "execution_count": 28,
     "metadata": {},
     "output_type": "execute_result"
    }
   ],
   "source": [
    "df.shape"
   ]
  },
  {
   "cell_type": "markdown",
   "metadata": {},
   "source": [
    "**DBSCAN**"
   ]
  },
  {
   "cell_type": "code",
   "execution_count": 29,
   "metadata": {},
   "outputs": [],
   "source": [
    "def apply_dbscan(rfm_data, eps=0.5, min_samples=5):\n",
    "    \"\"\"Applies DBSCAN clustering on RFM scores.\"\"\"\n",
    "    dbscan = DBSCAN(eps=eps, min_samples=min_samples, n_jobs=-1)\n",
    "    cluster_labels = dbscan.fit_predict(rfm_data[['LogRecency', 'LogFrequency', 'LogMonetary']])\n",
    "\n",
    "    # Create a copy of the DataFrame with the cluster labels\n",
    "    rfm_dbscan = rfm_data.copy()\n",
    "    rfm_dbscan['DBSCAN_Cluster'] = cluster_labels\n",
    "\n",
    "    return rfm_dbscan"
   ]
  },
  {
   "cell_type": "code",
   "execution_count": 9,
   "metadata": {},
   "outputs": [],
   "source": [
    "# DBSCAN clustering\n",
    "# rfm_dbscan = apply_dbscan(df.head(200000)) # Working till 200k\n",
    "\n"
   ]
  },
  {
   "cell_type": "code",
   "execution_count": 30,
   "metadata": {},
   "outputs": [
    {
     "name": "stdout",
     "output_type": "stream",
     "text": [
      "eps: 0.1, min_samples: 2, silhouette_score: -0.5746306124088968\n",
      "eps: 0.1, min_samples: 3, silhouette_score: -0.49127015614578484\n",
      "eps: 0.1, min_samples: 4, silhouette_score: -0.5060455051581527\n",
      "eps: 0.1, min_samples: 5, silhouette_score: -0.3103278601000279\n",
      "eps: 0.1, min_samples: 6, silhouette_score: -0.33409544451169243\n",
      "eps: 0.1, min_samples: 7, silhouette_score: -0.11744533233448651\n",
      "eps: 0.1, min_samples: 8, silhouette_score: -0.11773259675070431\n",
      "eps: 0.1, min_samples: 9, silhouette_score: 0.10678480007190153\n",
      "eps: 0.2, min_samples: 2, silhouette_score: -0.25812466859676286\n",
      "eps: 0.2, min_samples: 3, silhouette_score: -0.16548005275788005\n",
      "eps: 0.2, min_samples: 4, silhouette_score: -0.10288302014847087\n",
      "eps: 0.2, min_samples: 5, silhouette_score: -0.10105395262380812\n",
      "eps: 0.2, min_samples: 6, silhouette_score: 0.3589517981536388\n",
      "eps: 0.2, min_samples: 7, silhouette_score: 0.37921720455738805\n",
      "eps: 0.2, min_samples: 8, silhouette_score: 0.3742574200118744\n",
      "eps: 0.2, min_samples: 9, silhouette_score: 0.39244993217603147\n",
      "eps: 0.30000000000000004, min_samples: 2, silhouette_score: 0.10570174415997527\n",
      "eps: 0.30000000000000004, min_samples: 3, silhouette_score: 0.552697817235199\n",
      "eps: 0.30000000000000004, min_samples: 4, silhouette_score: 0.5712218401502072\n",
      "eps: 0.30000000000000004, min_samples: 5, silhouette_score: 0.6043820625245363\n",
      "eps: 0.30000000000000004, min_samples: 6, silhouette_score: 0.6034637629589374\n",
      "eps: 0.30000000000000004, min_samples: 7, silhouette_score: 0.39143004615339794\n",
      "eps: 0.30000000000000004, min_samples: 8, silhouette_score: 0.4984765190420905\n",
      "eps: 0.30000000000000004, min_samples: 9, silhouette_score: 0.5932189172523152\n",
      "eps: 0.4, min_samples: 2, silhouette_score: 0.5535782501065449\n",
      "eps: 0.4, min_samples: 3, silhouette_score: 0.5532097668421084\n",
      "eps: 0.4, min_samples: 4, silhouette_score: 0.5731182244227957\n",
      "eps: 0.4, min_samples: 5, silhouette_score: 0.5956148116395352\n",
      "eps: 0.4, min_samples: 6, silhouette_score: 0.6067445927634322\n",
      "eps: 0.4, min_samples: 7, silhouette_score: 0.606398573097265\n",
      "eps: 0.4, min_samples: 8, silhouette_score: 0.6058643933659582\n",
      "eps: 0.4, min_samples: 9, silhouette_score: 0.6058878829513366\n",
      "eps: 0.5, min_samples: 2, silhouette_score: 0.5647749251655892\n",
      "eps: 0.5, min_samples: 3, silhouette_score: 0.5674946636853488\n",
      "eps: 0.5, min_samples: 4, silhouette_score: 0.5674946636853488\n",
      "eps: 0.5, min_samples: 5, silhouette_score: 0.547684837129621\n",
      "eps: 0.5, min_samples: 6, silhouette_score: 0.606963406710441\n",
      "eps: 0.5, min_samples: 7, silhouette_score: 0.6071024368265219\n",
      "eps: 0.5, min_samples: 8, silhouette_score: 0.6072151072735034\n",
      "eps: 0.5, min_samples: 9, silhouette_score: 0.6072151072735034\n",
      "eps: 0.6, min_samples: 2, silhouette_score: 0.6549089595738741\n",
      "eps: 0.6, min_samples: 3, silhouette_score: 0.7222571009291688\n",
      "eps: 0.6, min_samples: 4, silhouette_score: 0.8694555876466216\n",
      "eps: 0.6, min_samples: 5, silhouette_score: 0.7303144698030162\n",
      "eps: 0.6, min_samples: 6, silhouette_score: 0.7304616864368725\n",
      "eps: 0.6, min_samples: 7, silhouette_score: 0.8481302513019273\n",
      "eps: 0.6, min_samples: 8, silhouette_score: 0.8421257943871748\n",
      "eps: 0.6, min_samples: 9, silhouette_score: 0.8421257943871748\n",
      "eps: 0.7000000000000001, min_samples: 2, silhouette_score: 0.6535428519985614\n",
      "eps: 0.7000000000000001, min_samples: 3, silhouette_score: 0.8823047577213478\n",
      "eps: 0.7000000000000001, min_samples: 4, silhouette_score: 0.8823047577213478\n",
      "eps: 0.7000000000000001, min_samples: 5, silhouette_score: 0.8783973717345479\n",
      "eps: 0.7000000000000001, min_samples: 6, silhouette_score: 0.8765344707715331\n",
      "eps: 0.7000000000000001, min_samples: 7, silhouette_score: 0.8724868702761389\n",
      "eps: 0.7000000000000001, min_samples: 8, silhouette_score: 0.8659159354239757\n",
      "eps: 0.7000000000000001, min_samples: 9, silhouette_score: 0.7059141575053176\n",
      "eps: 0.8, min_samples: 2, silhouette_score: 0.6529409949243307\n",
      "eps: 0.8, min_samples: 3, silhouette_score: 0.8894101375875207\n",
      "eps: 0.8, min_samples: 4, silhouette_score: 0.8871635502746259\n",
      "eps: 0.8, min_samples: 5, silhouette_score: 0.8830462462497868\n",
      "eps: 0.8, min_samples: 6, silhouette_score: 0.8810826294864686\n",
      "eps: 0.8, min_samples: 7, silhouette_score: 0.8810826294864686\n",
      "eps: 0.8, min_samples: 8, silhouette_score: 0.8748426698123544\n",
      "eps: 0.8, min_samples: 9, silhouette_score: 0.8697427214614352\n",
      "eps: 0.9, min_samples: 2, silhouette_score: 0.7906424801109353\n",
      "eps: 0.9, min_samples: 3, silhouette_score: 0.8944480417080162\n",
      "eps: 0.9, min_samples: 4, silhouette_score: 0.8919436702229314\n",
      "eps: 0.9, min_samples: 5, silhouette_score: 0.8898236571751899\n",
      "eps: 0.9, min_samples: 6, silhouette_score: 0.8898236571751899\n",
      "eps: 0.9, min_samples: 7, silhouette_score: 0.883154717971211\n",
      "eps: 0.9, min_samples: 8, silhouette_score: 0.883154717971211\n",
      "eps: 0.9, min_samples: 9, silhouette_score: 0.883154717971211\n",
      "eps: 1.0, min_samples: 2, silhouette_score: 0.7822606864264813\n",
      "eps: 1.0, min_samples: 3, silhouette_score: 0.8973209057978421\n",
      "eps: 1.0, min_samples: 4, silhouette_score: 0.8973209057978421\n",
      "eps: 1.0, min_samples: 5, silhouette_score: 0.8950781995343583\n",
      "eps: 1.0, min_samples: 6, silhouette_score: 0.892582260589865\n",
      "eps: 1.0, min_samples: 7, silhouette_score: 0.892582260589865\n",
      "eps: 1.0, min_samples: 8, silhouette_score: 0.8881677360043679\n",
      "eps: 1.0, min_samples: 9, silhouette_score: 0.8881677360043679\n",
      "eps: 1.1, min_samples: 2, silhouette_score: 0.7823834850335276\n",
      "eps: 1.1, min_samples: 3, silhouette_score: 0.8999927170484094\n",
      "eps: 1.1, min_samples: 4, silhouette_score: 0.8999927170484094\n",
      "eps: 1.1, min_samples: 5, silhouette_score: 0.8999927170484094\n",
      "eps: 1.1, min_samples: 6, silhouette_score: 0.8973740596197693\n",
      "eps: 1.1, min_samples: 7, silhouette_score: 0.8973740596197693\n",
      "eps: 1.1, min_samples: 8, silhouette_score: 0.8973740596197693\n",
      "eps: 1.1, min_samples: 9, silhouette_score: 0.8947618305055499\n",
      "eps: 1.2000000000000002, min_samples: 2, silhouette_score: 0.7825119273378015\n",
      "eps: 1.2000000000000002, min_samples: 3, silhouette_score: 0.9024904139238102\n",
      "eps: 1.2000000000000002, min_samples: 4, silhouette_score: 0.9024904139238102\n",
      "eps: 1.2000000000000002, min_samples: 5, silhouette_score: 0.9024904139238102\n",
      "eps: 1.2000000000000002, min_samples: 6, silhouette_score: 0.9024904139238102\n",
      "eps: 1.2000000000000002, min_samples: 7, silhouette_score: 0.9024904139238102\n",
      "eps: 1.2000000000000002, min_samples: 8, silhouette_score: 0.9024904139238102\n",
      "eps: 1.2000000000000002, min_samples: 9, silhouette_score: 0.9024904139238102\n",
      "eps: 1.3000000000000003, min_samples: 2, silhouette_score: 0.7949879720491282\n",
      "eps: 1.3000000000000003, min_samples: 3, silhouette_score: 0.795246353353388\n",
      "eps: 1.3000000000000003, min_samples: 4, silhouette_score: 0.9024904139238102\n",
      "eps: 1.3000000000000003, min_samples: 5, silhouette_score: 0.9024904139238102\n",
      "eps: 1.3000000000000003, min_samples: 6, silhouette_score: 0.9024904139238102\n",
      "eps: 1.3000000000000003, min_samples: 7, silhouette_score: 0.9024904139238102\n",
      "eps: 1.3000000000000003, min_samples: 8, silhouette_score: 0.9024904139238102\n",
      "eps: 1.3000000000000003, min_samples: 9, silhouette_score: 0.9024904139238102\n",
      "eps: 1.4000000000000001, min_samples: 2, silhouette_score: 0.8002405959786848\n",
      "eps: 1.4000000000000001, min_samples: 3, silhouette_score: 0.8004929934402939\n",
      "eps: 1.4000000000000001, min_samples: 4, silhouette_score: 0.8004929934402939\n",
      "eps: 1.4000000000000001, min_samples: 5, silhouette_score: 0.9024904139238102\n",
      "eps: 1.4000000000000001, min_samples: 6, silhouette_score: 0.9024904139238102\n",
      "eps: 1.4000000000000001, min_samples: 7, silhouette_score: 0.9024904139238102\n",
      "eps: 1.4000000000000001, min_samples: 8, silhouette_score: 0.9024904139238102\n",
      "eps: 1.4000000000000001, min_samples: 9, silhouette_score: 0.9024904139238102\n",
      "eps: 1.5000000000000002, min_samples: 2, silhouette_score: 0.855957817701442\n",
      "eps: 1.5000000000000002, min_samples: 3, silhouette_score: 0.9153651265059797\n",
      "eps: 1.5000000000000002, min_samples: 4, silhouette_score: 0.9153651265059797\n",
      "eps: 1.5000000000000002, min_samples: 5, silhouette_score: 0.9153651265059797\n",
      "eps: 1.5000000000000002, min_samples: 6, silhouette_score: 0.9045361448637771\n",
      "eps: 1.5000000000000002, min_samples: 7, silhouette_score: 0.9024904139238102\n",
      "eps: 1.5000000000000002, min_samples: 8, silhouette_score: 0.9024904139238102\n",
      "eps: 1.5000000000000002, min_samples: 9, silhouette_score: 0.9024904139238102\n",
      "eps: 1.6, min_samples: 2, silhouette_score: 0.8558081469453065\n",
      "eps: 1.6, min_samples: 3, silhouette_score: 0.9172188244535048\n",
      "eps: 1.6, min_samples: 4, silhouette_score: 0.9172188244535048\n",
      "eps: 1.6, min_samples: 5, silhouette_score: 0.9172188244535048\n",
      "eps: 1.6, min_samples: 6, silhouette_score: 0.8126167361227005\n",
      "eps: 1.6, min_samples: 7, silhouette_score: 0.9024904139238102\n",
      "eps: 1.6, min_samples: 8, silhouette_score: 0.9024904139238102\n",
      "eps: 1.6, min_samples: 9, silhouette_score: 0.9024904139238102\n",
      "eps: 1.7000000000000002, min_samples: 2, silhouette_score: 0.8034709732407462\n",
      "eps: 1.7000000000000002, min_samples: 3, silhouette_score: 0.9202641496569136\n",
      "eps: 1.7000000000000002, min_samples: 4, silhouette_score: 0.9202641496569136\n",
      "eps: 1.7000000000000002, min_samples: 5, silhouette_score: 0.9202641496569136\n",
      "eps: 1.7000000000000002, min_samples: 6, silhouette_score: 0.9202641496569136\n",
      "eps: 1.7000000000000002, min_samples: 7, silhouette_score: 0.9091055952054842\n",
      "eps: 1.7000000000000002, min_samples: 8, silhouette_score: 0.9091055952054842\n",
      "eps: 1.7000000000000002, min_samples: 9, silhouette_score: 0.9091055952054842\n",
      "eps: 1.8000000000000003, min_samples: 2, silhouette_score: 0.8034709732407462\n",
      "eps: 1.8000000000000003, min_samples: 3, silhouette_score: 0.9202641496569136\n",
      "eps: 1.8000000000000003, min_samples: 4, silhouette_score: 0.9202641496569136\n",
      "eps: 1.8000000000000003, min_samples: 5, silhouette_score: 0.9202641496569136\n",
      "eps: 1.8000000000000003, min_samples: 6, silhouette_score: 0.9202641496569136\n",
      "eps: 1.8000000000000003, min_samples: 7, silhouette_score: 0.9091055952054842\n",
      "eps: 1.8000000000000003, min_samples: 8, silhouette_score: 0.9091055952054842\n",
      "eps: 1.8000000000000003, min_samples: 9, silhouette_score: 0.9091055952054842\n",
      "eps: 1.9000000000000001, min_samples: 2, silhouette_score: 0.8557188510963991\n",
      "eps: 1.9000000000000001, min_samples: 3, silhouette_score: 0.9258336090541743\n",
      "eps: 1.9000000000000001, min_samples: 4, silhouette_score: 0.9258336090541743\n",
      "eps: 1.9000000000000001, min_samples: 5, silhouette_score: 0.9258336090541743\n",
      "eps: 1.9000000000000001, min_samples: 6, silhouette_score: 0.9258336090541743\n",
      "eps: 1.9000000000000001, min_samples: 7, silhouette_score: 0.9160799484815\n",
      "eps: 1.9000000000000001, min_samples: 8, silhouette_score: 0.9160799484815\n",
      "eps: 1.9000000000000001, min_samples: 9, silhouette_score: 0.9160799484815\n",
      "Best score: 0.9258336090541743 with parameters eps: 1.9000000000000001, min_samples: 3\n"
     ]
    }
   ],
   "source": [
    "eps_values = np.arange(0.1, 2.0, 0.1)  # Example range for eps\n",
    "min_samples_values = np.arange(2, 10, 1)  # Example range for min_samples\n",
    "\n",
    "best_score = -1\n",
    "best_params = (None, None)\n",
    "\n",
    "for eps in eps_values:\n",
    "    for min_samples in min_samples_values:\n",
    "        # Create DBSCAN model with the current parameters\n",
    "        dbscan = DBSCAN(eps=eps, min_samples=min_samples)\n",
    "        labels = dbscan.fit_predict(df.head(50000))\n",
    "\n",
    "        # Only compute the silhouette score if there's more than 1 cluster\n",
    "        if len(set(labels)) > 1:\n",
    "            score = silhouette_score(df.head(50000), labels)\n",
    "            print(f\"eps: {eps}, min_samples: {min_samples}, silhouette_score: {score}\")\n",
    "\n",
    "            if score > best_score:\n",
    "                best_score = score\n",
    "                best_params = (eps, min_samples)\n",
    "\n",
    "print(f\"Best score: {best_score} with parameters eps: {best_params[0]}, min_samples: {best_params[1]}\")"
   ]
  },
  {
   "cell_type": "code",
   "execution_count": 70,
   "metadata": {},
   "outputs": [
    {
     "name": "stdout",
     "output_type": "stream",
     "text": [
      "DBSCAN Clustering Labels:\n",
      "DBSCAN_Cluster\n",
      " 0    4298\n",
      "-1      31\n",
      " 1       3\n",
      " 2       2\n",
      " 3       2\n",
      " 4       2\n",
      "Name: count, dtype: int64\n"
     ]
    }
   ],
   "source": [
    "rfm_dbscan = apply_dbscan(df, eps=0.6, min_samples=2)\n",
    "\n",
    "# rfm_dbscan\n",
    "\n",
    "print(\"DBSCAN Clustering Labels:\")\n",
    "print(rfm_dbscan['DBSCAN_Cluster'].value_counts())\n"
   ]
  },
  {
   "cell_type": "code",
   "execution_count": 53,
   "metadata": {},
   "outputs": [
    {
     "name": "stdout",
     "output_type": "stream",
     "text": [
      "DBSCAN Clustering Labels:\n",
      "DBSCAN_Cluster\n",
      " 0    4204\n",
      "-1      43\n",
      " 2      40\n",
      " 1      39\n",
      " 4       6\n",
      " 3       6\n",
      "Name: count, dtype: int64\n"
     ]
    }
   ],
   "source": [
    "# rfm_dbscan\n",
    "\n",
    "# print(\"DBSCAN Clustering Labels:\")\n",
    "# print(rfm_dbscan['DBSCAN_Cluster'].value_counts())"
   ]
  },
  {
   "cell_type": "code",
   "execution_count": 65,
   "metadata": {},
   "outputs": [
    {
     "name": "stdout",
     "output_type": "stream",
     "text": [
      "DBSCAN Silhouette Score: 0.582\n"
     ]
    }
   ],
   "source": [
    "# Compute DBSCAN silhouette score\n",
    "if len(rfm_dbscan['DBSCAN_Cluster'].unique()) > 1:\n",
    "    dbscan_silhouette = silhouette_score(\n",
    "        rfm_dbscan[['LogRecency', 'LogFrequency', 'LogMonetary']], \n",
    "        rfm_dbscan['DBSCAN_Cluster'])\n",
    "    print(f\"DBSCAN Silhouette Score: {dbscan_silhouette:.3f}\")\n",
    "else:\n",
    "    print(\"Not enough clusters for DBSCAN Silhouette Score.\")"
   ]
  },
  {
   "cell_type": "code",
   "execution_count": 36,
   "metadata": {},
   "outputs": [
    {
     "data": {
      "image/png": "[encoded data removed]",
      "text/plain": [
       "<Figure size 1000x600 with 1 Axes>"
      ]
     },
     "metadata": {},
     "output_type": "display_data"
    }
   ],
   "source": [
    "\n",
    "# Plotting a scatter plot for 'Recency' vs. 'Frequency'\n",
    "plt.figure(figsize=(10, 6))\n",
    "sns.scatterplot(data=rfm_dbscan, x='LogRecency', y='LogFrequency', hue='DBSCAN_Cluster', palette='Set1')\n",
    "\n",
    "# Adding labels and title\n",
    "plt.title('DBSCAN Clustering Results - Scatter Plot')\n",
    "plt.xlabel('Recency')\n",
    "plt.ylabel('Frequency')\n",
    "plt.legend(title='Cluster')\n",
    "\n",
    "# Show plot\n",
    "plt.show()"
   ]
  }
 ],
 "metadata": {
  "kernelspec": {
   "display_name": "Python 3",
   "language": "python",
   "name": "python3"
  },
  "language_info": {
   "codemirror_mode": {
    "name": "ipython",
    "version": 3
   },
   "file_extension": ".py",
   "mimetype": "text/x-python",
   "name": "python",
   "nbconvert_exporter": "python",
   "pygments_lexer": "ipython3",
   "version": "3.12.2"
  }
 },
 "nbformat": 4,
 "nbformat_minor": 2
}
